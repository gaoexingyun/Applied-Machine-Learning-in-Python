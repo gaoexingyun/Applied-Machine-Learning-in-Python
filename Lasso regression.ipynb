{
    "cells": [
        {
            "metadata": {},
            "cell_type": "code",
            "source": "import types\nimport pandas as pd\nimport numpy as np\nfrom botocore.client import Config\nimport ibm_boto3\ndef __iter__(self): return 0\n# @hidden_cell\n# The following code accesses a file in your IBM Cloud Object Storage. It includes your credentials.\n# You might want to remove those credentials before you share the notebook.\nclient_63a9cff2ccd745f4aac0141b03cee536 = ibm_boto3.client(service_name='s3',\n    ibm_api_key_id='cEkITcKpSqIivMFetABvhrJF560Yblivtr_CN6eEn6kj',\n    ibm_auth_endpoint=\"https://iam.ng.bluemix.net/oidc/token\",\n    config=Config(signature_version='oauth'),\n    endpoint_url='https://s3-api.us-geo.objectstorage.service.networklayer.com')\n\n# Your data file was loaded into a botocore.response.StreamingBody object.\n# Please read the documentation of ibm_boto3 and pandas to learn more about the possibilities to load the data.\n# ibm_boto3 documentation: https://ibm.github.io/ibm-cos-sdk-python/\n# pandas documentation: http://pandas.pydata.org/\nstreaming_body_2 = client_63a9cff2ccd745f4aac0141b03cee536.get_object(Bucket='appleexample-donotdelete-pr-yizabrb7keakap', Key='CommViolPredUnnormalizedData.txt')['Body']\n# add missing __iter__ method, so pandas accepts body as file-like object\nif not hasattr(streaming_body_2, \"__iter__\"): streaming_body_2.__iter__ = types.MethodType( __iter__, streaming_body_2 ) \n\ncrime = pd.read_csv(streaming_body_2, sep=',', na_values='?')\ncolumns_to_keep = [5, 6] + list(range(11,26)) + list(range(32, 103)) + [145]  \ncrime = crime.iloc[:,columns_to_keep].dropna()\nX_crime = crime.iloc[:,range(0,88)]\ny_crime = crime['ViolentCrimesPerPop']",
            "execution_count": 2,
            "outputs": []
        },
        {
            "metadata": {},
            "cell_type": "code",
            "source": "from sklearn.preprocessing import MinMaxScaler\nscaler = MinMaxScaler()\nfrom sklearn.linear_model import Lasso\nfrom sklearn.model_selection import train_test_split\nX_train,X_test,y_train,y_test = train_test_split(X_crime,y_crime,random_state=0)\nX_train_scaled = scaler.fit_transform(X_train)\nX_test_scaled = scaler.transform(X_test)\nlinlasso = Lasso(alpha=2.0,max_iter=10000).fit(X_train_scaled,y_train)\nprint('Lasso regression linear model coeff:\\n {}'.format(linlasso.coef_))\nprint('Lasso regression linear model intercept (b): {:.3f}'.format(linlasso.intercept_))\nprint('R-squared score (training): {:.3f}'.format(linlasso.score(X_train_scaled,y_train)))\nprint('R-squared score (test): {:.3f}'.format(linlasso.score(X_test_scaled,y_test)))\nprint('Number of non-zero features: {}'.format(np.sum(linlasso.coef_ !=0)))\n# linridge.coef_ !=0 \u8fd4\u56detrue false\u77e9\u9635\n# np.sum\uff08\uff09\u5c06\u6240\u6709\u7684true\u548cfalse\u52a0\u8d77\u6765\nprint('Features with non-zero weight (sorted by absolute magnitude):')\nfor e in sorted (list(zip(list(X_crime),linlasso.coef_)),\n                key = lambda e: -abs(e[1])):\n    if e[1] != 0:\n        print('\\t{},{:.3f}'.format(e[0],e[1]))\n",
            "execution_count": 5,
            "outputs": [
                {
                    "output_type": "stream",
                    "text": "Lasso regression linear model coeff:\n [    0.             0.            -0.          -168.18346054\n    -0.            -0.             0.           119.6938194\n     0.            -0.             0.          -169.67564456\n    -0.             0.            -0.             0.\n     0.             0.            -0.            -0.\n     0.            -0.             0.             0.\n   -57.52991966    -0.            -0.             0.\n   259.32889226    -0.             0.             0.\n     0.            -0.         -1188.7396867     -0.\n    -0.            -0.          -231.42347299     0.\n  1488.36512229     0.            -0.            -0.\n    -0.             0.             0.             0.\n     0.             0.            -0.             0.\n    20.14419415     0.             0.             0.\n     0.             0.           339.04468804     0.\n     0.           459.53799903    -0.             0.\n   122.69221826    -0.            91.41202242     0.\n    -0.             0.             0.            73.14365856\n     0.            -0.             0.             0.\n    86.35600042     0.             0.             0.\n  -104.57143405   264.93206555     0.            23.4488645\n   -49.39355188     0.             5.19775369     0.        ]\nLasso regression linear model intercept (b): 1186.612\nR-squared score (training): 0.631\nR-squared score (test): 0.624\nNumber of non-zero features: 20\nFeatures with non-zero weight (sorted by absolute magnitude):\n\tPctKidsBornNeverMar,1488.365\n\tPctKids2Par,-1188.740\n\tHousVacant,459.538\n\tPctPersDenseHous,339.045\n\tNumInShelters,264.932\n\tMalePctDivorce,259.329\n\tPctWorkMom,-231.423\n\tpctWInvInc,-169.676\n\tagePct12t29,-168.183\n\tPctVacantBoarded,122.692\n\tpctUrban,119.694\n\tMedOwnCostPctIncNoMtg,-104.571\n\tMedYrHousBuilt,91.412\n\tRentQrange,86.356\n\tOwnOccHiQuart,73.144\n\tPctEmplManu,-57.530\n\tPctBornSameState,-49.394\n\tPctForeignBorn,23.449\n\tPctLargHouseFam,20.144\n\tPctSameCity85,5.198\n",
                    "name": "stdout"
                },
                {
                    "output_type": "stream",
                    "text": "/opt/conda/envs/Python36/lib/python3.6/site-packages/sklearn/preprocessing/data.py:334: DataConversionWarning: Data with input dtype int64, float64 were all converted to float64 by MinMaxScaler.\n  return self.partial_fit(X, y)\n",
                    "name": "stderr"
                }
            ]
        },
        {
            "metadata": {},
            "cell_type": "code",
            "source": "for alpha in [0.5,1,2,3,5,10,20,50]:\n    linlasso = Lasso(alpha,max_iter=10000).fit(X_train_scaled,y_train)\n    r2_train = linlasso.score(X_train_scaled,y_train)\n    r2_test = linlasso.score(X_test_scaled,y_test)\n    print('Alpha = {:.2f}\\n\\\n    Features kept: {}, r-squared training: {:.2f}, \\ \n    r-squared test: {:.2f}\\n'.format(alpha,np.sum(linlasso.coef_ !=0),r2_train,r2_test))",
            "execution_count": null,
            "outputs": []
        }
    ],
    "metadata": {
        "kernelspec": {
            "name": "python3",
            "display_name": "Python 3.6",
            "language": "python"
        },
        "language_info": {
            "name": "python",
            "version": "3.6.8",
            "mimetype": "text/x-python",
            "codemirror_mode": {
                "name": "ipython",
                "version": 3
            },
            "pygments_lexer": "ipython3",
            "nbconvert_exporter": "python",
            "file_extension": ".py"
        }
    },
    "nbformat": 4,
    "nbformat_minor": 1
}