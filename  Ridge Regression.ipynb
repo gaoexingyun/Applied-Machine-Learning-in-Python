{
    "cells": [
        {
            "metadata": {
                "collapsed": true
            },
            "cell_type": "markdown",
            "source": "## Ridge Regression\n"
        },
        {
            "metadata": {},
            "cell_type": "code",
            "source": "import types\nimport pandas as pd\nimport numpy as np\nfrom botocore.client import Config\nimport ibm_boto3\ndef __iter__(self): return 0\n# @hidden_cell\n# The following code accesses a file in your IBM Cloud Object Storage. It includes your credentials.\n# You might want to remove those credentials before you share the notebook.\nclient_63a9cff2ccd745f4aac0141b03cee536 = ibm_boto3.client(service_name='s3',\n    ibm_api_key_id='cEkITcKpSqIivMFetABvhrJF560Yblivtr_CN6eEn6kj',\n    ibm_auth_endpoint=\"https://iam.ng.bluemix.net/oidc/token\",\n    config=Config(signature_version='oauth'),\n    endpoint_url='https://s3-api.us-geo.objectstorage.service.networklayer.com')\n\n# Your data file was loaded into a botocore.response.StreamingBody object.\n# Please read the documentation of ibm_boto3 and pandas to learn more about the possibilities to load the data.\n# ibm_boto3 documentation: https://ibm.github.io/ibm-cos-sdk-python/\n# pandas documentation: http://pandas.pydata.org/\nstreaming_body_2 = client_63a9cff2ccd745f4aac0141b03cee536.get_object(Bucket='appleexample-donotdelete-pr-yizabrb7keakap', Key='CommViolPredUnnormalizedData.txt')['Body']\n# add missing __iter__ method, so pandas accepts body as file-like object\nif not hasattr(streaming_body_2, \"__iter__\"): streaming_body_2.__iter__ = types.MethodType( __iter__, streaming_body_2 ) \n\ncrime = pd.read_csv(streaming_body_2, sep=',', na_values='?')\ncolumns_to_keep = [5, 6] + list(range(11,26)) + list(range(32, 103)) + [145]  \ncrime = crime.iloc[:,columns_to_keep].dropna()\nX_crime = crime.iloc[:,range(0,88)]\ny_crime = crime['ViolentCrimesPerPop']",
            "execution_count": 15,
            "outputs": []
        },
        {
            "metadata": {},
            "cell_type": "code",
            "source": "crime.head()",
            "execution_count": 16,
            "outputs": [
                {
                    "output_type": "execute_result",
                    "execution_count": 16,
                    "data": {
                        "text/plain": "   population  householdsize  agePct12t21  agePct12t29  agePct16t24  \\\n0       11980           3.10        12.47        21.44        10.93   \n1       23123           2.82        11.01        21.30        10.48   \n2       29344           2.43        11.36        25.88        11.01   \n3       16656           2.40        12.55        25.20        12.19   \n5      140494           2.45        18.09        32.89        20.04   \n\n   agePct65up  numbUrban  pctUrban  medIncome  pctWWage  ...  \\\n0       11.33      11980     100.0      75122     89.24  ...   \n1       17.18      23123     100.0      47917     78.99  ...   \n2       10.28      29344     100.0      35669     82.00  ...   \n3       17.57          0       0.0      20580     68.15  ...   \n5       13.26     140494     100.0      21577     75.78  ...   \n\n   MedOwnCostPctInc  MedOwnCostPctIncNoMtg  NumInShelters  NumStreet  \\\n0              21.1                   14.0             11          0   \n1              20.7                   12.5              0          0   \n2              21.7                   11.6             16          0   \n3              20.6                   14.5              0          0   \n5              17.3                   11.7            327          4   \n\n   PctForeignBorn  PctBornSameState  PctSameHouse85  PctSameCity85  \\\n0           10.66             53.72           65.29          78.09   \n1            8.30             77.17           71.27          90.22   \n2            5.00             44.77           36.60          61.26   \n3            2.04             88.71           56.70          90.17   \n5            1.49             64.35           42.29          70.61   \n\n   PctSameState85  ViolentCrimesPerPop  \n0           89.14                41.02  \n1           96.12               127.56  \n2           82.85               218.59  \n3           96.24               306.64  \n5           85.66               442.95  \n\n[5 rows x 89 columns]",
                        "text/html": "<div>\n<style scoped>\n    .dataframe tbody tr th:only-of-type {\n        vertical-align: middle;\n    }\n\n    .dataframe tbody tr th {\n        vertical-align: top;\n    }\n\n    .dataframe thead th {\n        text-align: right;\n    }\n</style>\n<table border=\"1\" class=\"dataframe\">\n  <thead>\n    <tr style=\"text-align: right;\">\n      <th></th>\n      <th>population</th>\n      <th>householdsize</th>\n      <th>agePct12t21</th>\n      <th>agePct12t29</th>\n      <th>agePct16t24</th>\n      <th>agePct65up</th>\n      <th>numbUrban</th>\n      <th>pctUrban</th>\n      <th>medIncome</th>\n      <th>pctWWage</th>\n      <th>...</th>\n      <th>MedOwnCostPctInc</th>\n      <th>MedOwnCostPctIncNoMtg</th>\n      <th>NumInShelters</th>\n      <th>NumStreet</th>\n      <th>PctForeignBorn</th>\n      <th>PctBornSameState</th>\n      <th>PctSameHouse85</th>\n      <th>PctSameCity85</th>\n      <th>PctSameState85</th>\n      <th>ViolentCrimesPerPop</th>\n    </tr>\n  </thead>\n  <tbody>\n    <tr>\n      <th>0</th>\n      <td>11980</td>\n      <td>3.10</td>\n      <td>12.47</td>\n      <td>21.44</td>\n      <td>10.93</td>\n      <td>11.33</td>\n      <td>11980</td>\n      <td>100.0</td>\n      <td>75122</td>\n      <td>89.24</td>\n      <td>...</td>\n      <td>21.1</td>\n      <td>14.0</td>\n      <td>11</td>\n      <td>0</td>\n      <td>10.66</td>\n      <td>53.72</td>\n      <td>65.29</td>\n      <td>78.09</td>\n      <td>89.14</td>\n      <td>41.02</td>\n    </tr>\n    <tr>\n      <th>1</th>\n      <td>23123</td>\n      <td>2.82</td>\n      <td>11.01</td>\n      <td>21.30</td>\n      <td>10.48</td>\n      <td>17.18</td>\n      <td>23123</td>\n      <td>100.0</td>\n      <td>47917</td>\n      <td>78.99</td>\n      <td>...</td>\n      <td>20.7</td>\n      <td>12.5</td>\n      <td>0</td>\n      <td>0</td>\n      <td>8.30</td>\n      <td>77.17</td>\n      <td>71.27</td>\n      <td>90.22</td>\n      <td>96.12</td>\n      <td>127.56</td>\n    </tr>\n    <tr>\n      <th>2</th>\n      <td>29344</td>\n      <td>2.43</td>\n      <td>11.36</td>\n      <td>25.88</td>\n      <td>11.01</td>\n      <td>10.28</td>\n      <td>29344</td>\n      <td>100.0</td>\n      <td>35669</td>\n      <td>82.00</td>\n      <td>...</td>\n      <td>21.7</td>\n      <td>11.6</td>\n      <td>16</td>\n      <td>0</td>\n      <td>5.00</td>\n      <td>44.77</td>\n      <td>36.60</td>\n      <td>61.26</td>\n      <td>82.85</td>\n      <td>218.59</td>\n    </tr>\n    <tr>\n      <th>3</th>\n      <td>16656</td>\n      <td>2.40</td>\n      <td>12.55</td>\n      <td>25.20</td>\n      <td>12.19</td>\n      <td>17.57</td>\n      <td>0</td>\n      <td>0.0</td>\n      <td>20580</td>\n      <td>68.15</td>\n      <td>...</td>\n      <td>20.6</td>\n      <td>14.5</td>\n      <td>0</td>\n      <td>0</td>\n      <td>2.04</td>\n      <td>88.71</td>\n      <td>56.70</td>\n      <td>90.17</td>\n      <td>96.24</td>\n      <td>306.64</td>\n    </tr>\n    <tr>\n      <th>5</th>\n      <td>140494</td>\n      <td>2.45</td>\n      <td>18.09</td>\n      <td>32.89</td>\n      <td>20.04</td>\n      <td>13.26</td>\n      <td>140494</td>\n      <td>100.0</td>\n      <td>21577</td>\n      <td>75.78</td>\n      <td>...</td>\n      <td>17.3</td>\n      <td>11.7</td>\n      <td>327</td>\n      <td>4</td>\n      <td>1.49</td>\n      <td>64.35</td>\n      <td>42.29</td>\n      <td>70.61</td>\n      <td>85.66</td>\n      <td>442.95</td>\n    </tr>\n  </tbody>\n</table>\n<p>5 rows \u00d7 89 columns</p>\n</div>"
                    },
                    "metadata": {}
                }
            ]
        },
        {
            "metadata": {},
            "cell_type": "code",
            "source": "from sklearn.linear_model import Ridge\nfrom sklearn.model_selection import train_test_split\nX_train,X_test,y_train,y_test = train_test_split(X_crime,y_crime,random_state=0)\nlinridge = Ridge(alpha=20.0).fit(X_train,y_train)\nprint('ridge regression linear model coeff:\\n {}'.format(linridge.coef_))\nprint('ridge regression linear model intercept (b): {:.3f}'.format(linridge.intercept_))\nprint('R-squared score (training): {:.3f}'.format(linridge.score(X_train,y_train)))\nprint('R-squared score (test): {:.3f}'.format(linridge.score(X_test,y_test)))\nprint('Number of non-zero features: {}'.format(np.sum(linridge.coef_ !=0)))\n# linridge.coef_ !=0 \u8fd4\u56detrue false\u77e9\u9635\n# np.sum\uff08\uff09\u5c06\u6240\u6709\u7684true\u548cfalse\u52a0\u8d77\u6765",
            "execution_count": 18,
            "outputs": [
                {
                    "output_type": "stream",
                    "text": "ridge regression linear model coeff:\n [ 1.95091438e-03  2.19322667e+01  9.56286607e+00 -3.59178973e+01\n  6.36465325e+00 -1.96885471e+01 -2.80715856e-03  1.66254486e+00\n -6.61426604e-03 -6.95450680e+00  1.71944731e+01 -5.62819154e+00\n  8.83525114e+00  6.79085746e-01 -7.33614221e+00  6.70389803e-03\n  9.78505502e-04  5.01202169e-03 -4.89870524e+00 -1.79270062e+01\n  9.17572382e+00 -1.24454193e+00  1.21845360e+00  1.03233089e+01\n -3.78037278e+00 -3.73428973e+00  4.74595305e+00  8.42696855e+00\n  3.09250005e+01  1.18644167e+01 -2.05183675e+00 -3.82210450e+01\n  1.85081589e+01  1.52510829e+00 -2.20086608e+01  2.46283912e+00\n  3.29328703e-01  4.02228467e+00 -1.12903533e+01 -4.69567413e-03\n  4.27046505e+01 -1.22507167e-03  1.40795790e+00  9.35041855e-01\n -3.00464253e+00  1.12390514e+00 -1.82487653e+01 -1.54653407e+01\n  2.41917002e+01 -1.32497562e+01 -4.20113118e-01 -3.59710660e+01\n  1.29786751e+01 -2.80765995e+01  4.38513476e+01  3.86590044e+01\n -6.46024046e+01 -1.63714023e+01  2.90397330e+01  4.15472907e+00\n  5.34033563e+01  1.98773191e-02 -5.47413979e-01  1.23883518e+01\n  1.03526583e+01 -1.57238894e+00  3.15887097e+00  8.77757987e+00\n -2.94724962e+01 -2.33072370e-04  3.13528914e-04 -4.13551441e-04\n -1.79928030e-04 -5.74054526e-01 -5.17742507e-01 -4.20670932e-01\n  1.53383595e-01  1.32725423e+00  3.84863158e+00  3.03024594e+00\n -3.77692644e+01  1.37933464e-01  3.07676522e-01  1.57128807e+01\n  3.31418306e-01  3.35994414e+00  1.61265911e-01 -2.67619878e+00]\nridge regression linear model intercept (b): -3352.423\nR-squared score (training): 0.671\nR-squared score (test): 0.494\nNumber of non-zero features: 88\n[ True  True  True  True  True  True  True  True  True  True  True  True\n  True  True  True  True  True  True  True  True  True  True  True  True\n  True  True  True  True  True  True  True  True  True  True  True  True\n  True  True  True  True  True  True  True  True  True  True  True  True\n  True  True  True  True  True  True  True  True  True  True  True  True\n  True  True  True  True  True  True  True  True  True  True  True  True\n  True  True  True  True  True  True  True  True  True  True  True  True\n  True  True  True  True]\n",
                    "name": "stdout"
                }
            ]
        },
        {
            "metadata": {},
            "cell_type": "code",
            "source": "",
            "execution_count": null,
            "outputs": []
        }
    ],
    "metadata": {
        "kernelspec": {
            "name": "python3",
            "display_name": "Python 3.6",
            "language": "python"
        },
        "language_info": {
            "name": "python",
            "version": "3.6.8",
            "mimetype": "text/x-python",
            "codemirror_mode": {
                "name": "ipython",
                "version": 3
            },
            "pygments_lexer": "ipython3",
            "nbconvert_exporter": "python",
            "file_extension": ".py"
        }
    },
    "nbformat": 4,
    "nbformat_minor": 1
}