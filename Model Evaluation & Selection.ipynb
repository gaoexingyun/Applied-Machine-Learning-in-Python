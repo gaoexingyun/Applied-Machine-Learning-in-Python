{
    "cells": [
        {
            "metadata": {},
            "cell_type": "code",
            "source": "import pandas as pd\nimport numpy as np\nimport matplotlib.pyplot as plt\nimport matplotlib.colors as cls\nfrom sklearn.model_selection import train_test_split\nfrom sklearn.datasets import load_digits\n\ndataset = load_digits()\nX,y = dataset.data, dataset.target\nfor class_name, class_count in zip(dataset.target_names,np.bincount(dataset.target)):\n    print(class_name, class_count)\n# zip() \u51fd\u6570\u7528\u4e8e\u5c06\u53ef\u8fed\u4ee3\u7684\u5bf9\u8c61\u4f5c\u4e3a\u53c2\u6570\uff0c\u5c06\u5bf9\u8c61\u4e2d\u5bf9\u5e94\u7684\u5143\u7d20\u6253\u5305\u6210\u4e00\u4e2a\u4e2a\u5143\u7ec4\uff0c\u7136\u540e\u8fd4\u56de\u7531\u8fd9\u4e9b\u5143\u7ec4\u7ec4\u6210\u7684\u5217\u8868\u3002\n# \u5982\u679c\u5404\u4e2a\u8fed\u4ee3\u5668\u7684\u5143\u7d20\u4e2a\u6570\u4e0d\u4e00\u81f4\uff0c\u5219\u8fd4\u56de\u5217\u8868\u957f\u5ea6\u4e0e\u6700\u77ed\u7684\u5bf9\u8c61\u76f8\u540c\uff0c\u5229\u7528 * \u53f7\u64cd\u4f5c\u7b26\uff0c\u53ef\u4ee5\u5c06\u5143\u7ec4\u89e3\u538b\u4e3a\u5217\u8868\u3002\n# np.bincount() Count number of occurrences of each value in array of non-negative ints.\n# \u663e\u7136\u662f\u8fd9\u91cc\u4ece0\u5f00\u59cb\u8ba1\u7b97\u51fa\u73b0\u6b21\u6570\u7684\uff0c\u6240\u4ee5\u6700\u540e\u4e00\u4e2a\u662f\u6700\u5927\u503c: 0\u51fa\u73b0\u51e0\u6b21\uff0c1\u51fa\u73b0\u51e0\u6b21\uff0c\u4e00\u76f4\u52309\u51fa\u73b0\u51e0\u6b21",
            "execution_count": 26,
            "outputs": [
                {
                    "output_type": "stream",
                    "text": "0 178\n1 182\n2 177\n3 183\n4 181\n5 182\n6 181\n7 179\n8 174\n9 180\n",
                    "name": "stdout"
                }
            ]
        },
        {
            "metadata": {},
            "cell_type": "code",
            "source": "y_binary_imbalanced = y.copy()\ny_binary_imbalanced[y_binary_imbalanced !=1] = 0\nprint('Orinal labels:    ',y[:30])\nprint('New binary labels:',y_binary_imbalanced[:30])",
            "execution_count": 27,
            "outputs": [
                {
                    "output_type": "stream",
                    "text": "Orinal labels:     [0 1 2 3 4 5 6 7 8 9 0 1 2 3 4 5 6 7 8 9 0 1 2 3 4 5 6 7 8 9]\nNew binary labels: [0 1 0 0 0 0 0 0 0 0 0 1 0 0 0 0 0 0 0 0 0 1 0 0 0 0 0 0 0 0]\n",
                    "name": "stdout"
                }
            ]
        },
        {
            "metadata": {},
            "cell_type": "code",
            "source": "np.bincount(y_binary_imbalanced)",
            "execution_count": 28,
            "outputs": [
                {
                    "output_type": "execute_result",
                    "execution_count": 28,
                    "data": {
                        "text/plain": "array([1615,  182])"
                    },
                    "metadata": {}
                }
            ]
        },
        {
            "metadata": {},
            "cell_type": "code",
            "source": "from sklearn.svm import SVC\nfrom sklearn.model_selection import train_test_split\nX_train,X_test,y_train,y_test = train_test_split(X,y_binary_imbalanced,random_state=0)\nsvm = SVC(kernel='rbf',C=1).fit(X_train,y_train)\nsvm.score(X_test,y_test)",
            "execution_count": 29,
            "outputs": [
                {
                    "output_type": "stream",
                    "text": "/opt/conda/envs/Python36/lib/python3.6/site-packages/sklearn/svm/base.py:196: FutureWarning: The default value of gamma will change from 'auto' to 'scale' in version 0.22 to account better for unscaled features. Set gamma explicitly to 'auto' or 'scale' to avoid this warning.\n  \"avoid this warning.\", FutureWarning)\n",
                    "name": "stderr"
                },
                {
                    "output_type": "execute_result",
                    "execution_count": 29,
                    "data": {
                        "text/plain": "0.9088888888888889"
                    },
                    "metadata": {}
                }
            ]
        },
        {
            "metadata": {},
            "cell_type": "markdown",
            "source": "## Dummy Classifiers"
        },
        {
            "metadata": {},
            "cell_type": "code",
            "source": "from sklearn.dummy import DummyClassifier\ndummy_majority = DummyClassifier(strategy='most_frequent').fit(X_train,y_train)\ny_dummy_predictions = dummy_majority.predict(X_test)\ny_dummy_predictions\n# most_frequent: \u9884\u6d4b\u503c\u662f\u51fa\u73b0\u9891\u7387\u6700\u9ad8\u7684\u7c7b\u522b\ndummy_majority.score(X_test,y_test)",
            "execution_count": 30,
            "outputs": [
                {
                    "output_type": "execute_result",
                    "execution_count": 30,
                    "data": {
                        "text/plain": "0.9044444444444445"
                    },
                    "metadata": {}
                }
            ]
        },
        {
            "metadata": {},
            "cell_type": "code",
            "source": "svm = SVC(kernel='linear',C=1).fit(X_train,y_train)\nsvm.score(X_test,y_test)",
            "execution_count": 31,
            "outputs": [
                {
                    "output_type": "execute_result",
                    "execution_count": 31,
                    "data": {
                        "text/plain": "0.9777777777777777"
                    },
                    "metadata": {}
                }
            ]
        },
        {
            "metadata": {},
            "cell_type": "markdown",
            "source": "## confusion matrix"
        },
        {
            "metadata": {},
            "cell_type": "markdown",
            "source": "### binary confusion marix"
        },
        {
            "metadata": {},
            "cell_type": "code",
            "source": "from sklearn.metrics import confusion_matrix\ndummy_majority = DummyClassifier(strategy='most_frequent').fit(X_train,y_train)\ny_dummy_predictions = dummy_majority.predict(X_test)\nconfusion = confusion_matrix(y_test,y_dummy_predictions)\nprint('most frequent class (dummy classifier)\\n',confusion)",
            "execution_count": 32,
            "outputs": [
                {
                    "output_type": "stream",
                    "text": "most frequent class (dummy classifier)\n [[407   0]\n [ 43   0]]\n",
                    "name": "stdout"
                }
            ]
        },
        {
            "metadata": {},
            "cell_type": "code",
            "source": "dummy_classprop = DummyClassifier(strategy='stratified').fit(X_train,y_train)\ny_classprop_predicted = dummy_classprop.predict(X_test)\nconfusion = confusion_matrix(y_test,y_classprop_predicted)\nprint('random class-proportional prediction (dummy classifier)\\n',confusion)",
            "execution_count": 33,
            "outputs": [
                {
                    "output_type": "stream",
                    "text": "random class-proportional prediction (dummy classifier)\n [[372  35]\n [ 38   5]]\n",
                    "name": "stdout"
                }
            ]
        },
        {
            "metadata": {},
            "cell_type": "code",
            "source": "svm = SVC(kernel='linear',C=1).fit(X_train,y_train)\nsvm_predicted = svm.predict(X_test)\nconfusion = confusion_matrix(y_test,svm_predicted)\nprint('SVM classifier (linear kernal, C=1)\\n',confusion)",
            "execution_count": 34,
            "outputs": [
                {
                    "output_type": "stream",
                    "text": "SVM classifier (linear kernal, C=1)\n [[402   5]\n [  5  38]]\n",
                    "name": "stdout"
                }
            ]
        },
        {
            "metadata": {},
            "cell_type": "code",
            "source": "from sklearn.linear_model import LogisticRegression\nlr = LogisticRegression().fit(X_train,y_train)\nlr_predicted = lr.predict(X_test)\nconfusion = confusion_matrix(y_test,lr_predicted)\nprint('logistic regression (defalt settings)\\n',confusion)",
            "execution_count": 35,
            "outputs": [
                {
                    "output_type": "stream",
                    "text": "logistic regression (defalt settings)\n [[401   6]\n [  6  37]]\n",
                    "name": "stdout"
                },
                {
                    "output_type": "stream",
                    "text": "/opt/conda/envs/Python36/lib/python3.6/site-packages/sklearn/linear_model/logistic.py:433: FutureWarning: Default solver will be changed to 'lbfgs' in 0.22. Specify a solver to silence this warning.\n  FutureWarning)\n",
                    "name": "stderr"
                }
            ]
        },
        {
            "metadata": {},
            "cell_type": "code",
            "source": "from sklearn.tree import DecisionTreeClassifier\ndt = DecisionTreeClassifier(max_depth=2).fit(X_train,y_train)\ntree_predicted = dt.predict(X_test)\nconfusion = confusion_matrix(y_test,tree_predicted)\nprint('Decision Tree Classifier(max_depth=2)\\n',confusion)",
            "execution_count": 36,
            "outputs": [
                {
                    "output_type": "stream",
                    "text": "Decision Tree Classifier(max_depth=2)\n [[400   7]\n [ 17  26]]\n",
                    "name": "stdout"
                }
            ]
        },
        {
            "metadata": {},
            "cell_type": "code",
            "source": "",
            "execution_count": null,
            "outputs": []
        }
    ],
    "metadata": {
        "kernelspec": {
            "name": "python3",
            "display_name": "Python 3.6",
            "language": "python"
        },
        "language_info": {
            "name": "python",
            "version": "3.6.8",
            "mimetype": "text/x-python",
            "codemirror_mode": {
                "name": "ipython",
                "version": 3
            },
            "pygments_lexer": "ipython3",
            "nbconvert_exporter": "python",
            "file_extension": ".py"
        }
    },
    "nbformat": 4,
    "nbformat_minor": 1
}