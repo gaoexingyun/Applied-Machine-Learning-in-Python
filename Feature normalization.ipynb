{
    "cells": [
        {
            "metadata": {},
            "cell_type": "code",
            "source": "import types\nimport pandas as pd\nimport numpy as np\nfrom botocore.client import Config\nimport ibm_boto3\ndef __iter__(self): return 0\n# @hidden_cell\n# The following code accesses a file in your IBM Cloud Object Storage. It includes your credentials.\n# You might want to remove those credentials before you share the notebook.\nclient_63a9cff2ccd745f4aac0141b03cee536 = ibm_boto3.client(service_name='s3',\n    ibm_api_key_id='cEkITcKpSqIivMFetABvhrJF560Yblivtr_CN6eEn6kj',\n    ibm_auth_endpoint=\"https://iam.ng.bluemix.net/oidc/token\",\n    config=Config(signature_version='oauth'),\n    endpoint_url='https://s3-api.us-geo.objectstorage.service.networklayer.com')\n\n# Your data file was loaded into a botocore.response.StreamingBody object.\n# Please read the documentation of ibm_boto3 and pandas to learn more about the possibilities to load the data.\n# ibm_boto3 documentation: https://ibm.github.io/ibm-cos-sdk-python/\n# pandas documentation: http://pandas.pydata.org/\nstreaming_body_2 = client_63a9cff2ccd745f4aac0141b03cee536.get_object(Bucket='appleexample-donotdelete-pr-yizabrb7keakap', Key='CommViolPredUnnormalizedData.txt')['Body']\n# add missing __iter__ method, so pandas accepts body as file-like object\nif not hasattr(streaming_body_2, \"__iter__\"): streaming_body_2.__iter__ = types.MethodType( __iter__, streaming_body_2 ) \n\ncrime = pd.read_csv(streaming_body_2, sep=',', na_values='?')\ncolumns_to_keep = [5, 6] + list(range(11,26)) + list(range(32, 103)) + [145]  \ncrime = crime.iloc[:,columns_to_keep].dropna()\nX_crime = crime.iloc[:,range(0,88)]\ny_crime = crime['ViolentCrimesPerPop']",
            "execution_count": 1,
            "outputs": []
        },
        {
            "metadata": {},
            "cell_type": "code",
            "source": "from sklearn.preprocessing import MinMaxScaler\nscaler = MinMaxScaler()\nfrom sklearn.linear_model import Ridge\nfrom sklearn.model_selection import train_test_split\nX_train,X_test,y_train,y_test = train_test_split(X_crime,y_crime,random_state=0)\nX_train_scaled = scaler.fit_transform(X_train)\nX_test_scaled = scaler.transform(X_test)\nlinridge = Ridge(alpha=20.0).fit(X_train_scaled,y_train)\nprint('ridge regression linear model coeff:\\n {}'.format(linridge.coef_))\nprint('ridge regression linear model intercept (b): {:.3f}'.format(linridge.intercept_))\nprint('R-squared score (training): {:.3f}'.format(linridge.score(X_train_scaled,y_train)))\nprint('R-squared score (test): {:.3f}'.format(linridge.score(X_test_scaled,y_test)))\nprint('Number of non-zero features: {}'.format(np.sum(linridge.coef_ !=0)))\n# linridge.coef_ !=0 \u8fd4\u56detrue false\u77e9\u9635\n# np.sum\uff08\uff09\u5c06\u6240\u6709\u7684true\u548cfalse\u52a0\u8d77\u6765",
            "execution_count": 4,
            "outputs": [
                {
                    "output_type": "stream",
                    "text": "ridge regression linear model coeff:\n [  88.68827454   16.48947987  -50.30285445  -82.90507574  -65.89507244\n   -2.27674244   87.74108514  150.94862182   18.8802613   -31.05554992\n  -43.13536109 -189.44266328   -4.52658099  107.97866804  -76.53358414\n    2.86032762   34.95230077   90.13523036   52.46428263  -62.10898424\n  115.01780357    2.66942023    6.94331369   -5.66646499 -101.55269144\n  -36.9087526    -8.7053343    29.11999068  171.25963057   99.36919476\n   75.06611841  123.63522539   95.24316483 -330.61044265 -442.30179004\n -284.49744001 -258.37150609   17.66431072 -101.70717151  110.64762887\n  523.13611718   24.8208959     4.86533322  -30.46775619   -3.51753937\n   50.57947231   10.84840601   18.27680946   44.11189865   58.33588176\n   67.08698975  -57.93524659  116.1446052    53.81163718   49.01607711\n   -7.62262031   55.14288543  -52.08878272  123.39291017   77.12562171\n   45.49795317  184.91229771  -91.35721203    1.07975971  234.09267451\n   10.3887921    94.7171829   167.91856631  -25.14025088   -1.18242839\n   14.60362467   36.77122659   53.19878339  -78.86365997   -5.89858411\n   26.04790298  115.1534917    68.74143311   68.28588166   16.5260514\n  -97.90513652  205.20448474   75.97304123   61.3791085   -79.83157049\n   67.26700741   95.67094538  -11.88380569]\nridge regression linear model intercept (b): 933.391\nR-squared score (training): 0.615\nR-squared score (test): 0.599\nNumber of non-zero features: 88\n",
                    "name": "stdout"
                },
                {
                    "output_type": "stream",
                    "text": "/opt/conda/envs/Python36/lib/python3.6/site-packages/sklearn/preprocessing/data.py:334: DataConversionWarning: Data with input dtype int64, float64 were all converted to float64 by MinMaxScaler.\n  return self.partial_fit(X, y)\n",
                    "name": "stderr"
                }
            ]
        },
        {
            "metadata": {},
            "cell_type": "code",
            "source": "",
            "execution_count": null,
            "outputs": []
        }
    ],
    "metadata": {
        "kernelspec": {
            "name": "python3",
            "display_name": "Python 3.6",
            "language": "python"
        },
        "language_info": {
            "name": "python",
            "version": "3.6.8",
            "mimetype": "text/x-python",
            "codemirror_mode": {
                "name": "ipython",
                "version": 3
            },
            "pygments_lexer": "ipython3",
            "nbconvert_exporter": "python",
            "file_extension": ".py"
        }
    },
    "nbformat": 4,
    "nbformat_minor": 1
}