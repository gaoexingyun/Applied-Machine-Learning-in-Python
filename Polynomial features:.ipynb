{
    "cells": [
        {
            "metadata": {},
            "cell_type": "code",
            "source": "import pandas as pd\nimport numpy as np\nfrom sklearn.datasets import make_friedman1\nX_F1,y_F1 = make_friedman1(n_samples = 100, n_features = 7, random_state = 0)",
            "execution_count": 3,
            "outputs": []
        },
        {
            "metadata": {},
            "cell_type": "code",
            "source": "from sklearn.model_selection import train_test_split\nfrom sklearn.linear_model import LinearRegression\nfrom sklearn.linear_model import Ridge\nfrom sklearn.preprocessing import PolynomialFeatures\nX_train,X_test,y_train,y_test = train_test_split(X_F1,y_F1,random_state=0)\nlinreg = LinearRegression().fit(X_train,y_train)\nprint('linear model coeff:\\n {}'.format(linreg.coef_))\nprint('linear model intercept (b): {:.3f}'.format(linreg.intercept_))\nprint('R-squared score (training): {:.3f}'.format(linreg.score(X_train,y_train)))\nprint('R-squared score (test): {:.3f}'.format(linreg.score(X_test,y_test)))",
            "execution_count": 6,
            "outputs": [
                {
                    "output_type": "stream",
                    "text": "linear model coeff:\n [ 4.42036739  5.99661447  0.52894712 10.23751345  6.5507973  -2.02082636\n -0.32378811]\nlinear model intercept (b): 1.543\nR-squared score (training): 0.722\nR-squared score (test): 0.722\n",
                    "name": "stdout"
                }
            ]
        },
        {
            "metadata": {},
            "cell_type": "code",
            "source": "print('\\nTransfom the orignal input data to add\\n\\\npolynomial features up to degree')",
            "execution_count": null,
            "outputs": []
        }
    ],
    "metadata": {
        "kernelspec": {
            "name": "python3",
            "display_name": "Python 3.6",
            "language": "python"
        },
        "language_info": {
            "name": "python",
            "version": "3.6.8",
            "mimetype": "text/x-python",
            "codemirror_mode": {
                "name": "ipython",
                "version": 3
            },
            "pygments_lexer": "ipython3",
            "nbconvert_exporter": "python",
            "file_extension": ".py"
        }
    },
    "nbformat": 4,
    "nbformat_minor": 1
}